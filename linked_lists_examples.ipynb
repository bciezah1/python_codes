{
 "cells": [
  {
   "cell_type": "code",
   "execution_count": 3,
   "metadata": {},
   "outputs": [],
   "source": [
    "# create node class\n",
    "\n",
    "class Node:\n",
    "    def __init__(self,data):\n",
    "        self.data = data\n",
    "        self.next = None"
   ]
  },
  {
   "cell_type": "code",
   "execution_count": 5,
   "metadata": {},
   "outputs": [],
   "source": [
    "# insertion in linked list\n",
    "\n",
    "def insertAtBegin(self,data):\n",
    "    new_node = Node(data)\n",
    "    if self.head is None:\n",
    "        self.head = new_node\n",
    "        return\n",
    "    else:\n",
    "        new_node.next =  self.head\n",
    "        self.head = new_node"
   ]
  },
  {
   "cell_type": "code",
   "execution_count": 7,
   "metadata": {},
   "outputs": [],
   "source": [
    "# Inserting starts from \n",
    "\n",
    "def insertAtIndex(self,data,index):\n",
    "    new_node = Node(data)\n",
    "    current_node = self.head\n",
    "    position = 0\n",
    "    if position == index:\n",
    "        self.insertAtBegin(data)\n",
    "    else:\n",
    "        while(current_node != None and position+1 != index):\n",
    "            position = position +1\n",
    "            current_node =  current_node.next\n",
    "        if current_node != None:\n",
    "\n",
    "            new_node.next = current_node.next\n",
    "            current_node.next = new_node\n",
    "        else:\n",
    "            print(\"Index not present\")"
   ]
  },
  {
   "cell_type": "code",
   "execution_count": 8,
   "metadata": {},
   "outputs": [],
   "source": [
    "def inserAtEnd(self, data):\n",
    "    new_node = Node(data)\n",
    "    if self.head is None:\n",
    "        self.head = new_node\n",
    "        return\n",
    " \n",
    "    current_node = self.head\n",
    "    while(current_node.next):\n",
    "        current_node = current_node.next\n",
    " \n",
    "    current_node.next = new_node"
   ]
  },
  {
   "cell_type": "code",
   "execution_count": 9,
   "metadata": {},
   "outputs": [],
   "source": [
    "# Update node of a linked list\n",
    "# at given position\n",
    "def updateNode(self, val, index):\n",
    "    current_node = self.head\n",
    "    position = 0\n",
    "    if position == index:\n",
    "        current_node.data = val\n",
    "    else:\n",
    "        while(current_node != None and position != index):\n",
    "            position = position+1\n",
    "            current_node = current_node.next\n",
    " \n",
    "        if current_node != None:\n",
    "            current_node.data = val\n",
    "        else:\n",
    "            print(\"Index not present\")"
   ]
  },
  {
   "cell_type": "code",
   "execution_count": 10,
   "metadata": {},
   "outputs": [],
   "source": [
    "def remove_first_node(self):\n",
    "    if(self.head == None):\n",
    "        return\n",
    "     \n",
    "    self.head = self.head.next"
   ]
  },
  {
   "cell_type": "code",
   "execution_count": 11,
   "metadata": {},
   "outputs": [],
   "source": [
    "def remove_last_node(self):\n",
    "\n",
    "\tif self.head is None:\n",
    "\t\treturn\n",
    "\n",
    "\tcurrent_node = self.head\n",
    "\twhile(current_node.next.next):\n",
    "\t\tcurrent_node = current_node.next\n",
    "\n",
    "\tcurrent_node.next = None\n"
   ]
  },
  {
   "cell_type": "code",
   "execution_count": 12,
   "metadata": {},
   "outputs": [],
   "source": [
    "# Method to remove at given index\n",
    "def remove_at_index(self, index):\n",
    "        if self.head == None:\n",
    "            return\n",
    " \n",
    "        current_node = self.head\n",
    "        position = 0\n",
    "        if position == index:\n",
    "            self.remove_first_node()\n",
    "        else:\n",
    "            while(current_node != None and position+1 != index):\n",
    "                position = position+1\n",
    "                current_node = current_node.next\n",
    " \n",
    "            if current_node != None:\n",
    "                current_node.next = current_node.next.next\n",
    "            else:\n",
    "                print(\"Index not present\")"
   ]
  },
  {
   "cell_type": "code",
   "execution_count": 13,
   "metadata": {},
   "outputs": [],
   "source": [
    "def remove_node(self, data):\n",
    "\tcurrent_node = self.head\n",
    "\n",
    "\t# Check if the head node contains the specified data\n",
    "\tif current_node.data == data:\n",
    "\t\tself.remove_first_node()\n",
    "\t\treturn\n",
    "\n",
    "\twhile current_node is not None and current_node.next.data != data:\n",
    "\t\tcurrent_node = current_node.next\n",
    "\n",
    "\tif current_node is None:\n",
    "\t\treturn\n",
    "\telse:\n",
    "\t\tcurrent_node.next = current_node.next.next\n"
   ]
  },
  {
   "cell_type": "code",
   "execution_count": 14,
   "metadata": {},
   "outputs": [],
   "source": [
    "def printLL(self):\n",
    "\tcurrent_node = self.head\n",
    "\twhile(current_node):\n",
    "\t\tprint(current_node.data)\n",
    "\t\tcurrent_node = current_node.next\n"
   ]
  },
  {
   "cell_type": "code",
   "execution_count": 15,
   "metadata": {},
   "outputs": [],
   "source": [
    "def sizeOfLL(self):\n",
    "\tsize = 0\n",
    "\tif(self.head):\n",
    "\t\tcurrent_node = self.head\n",
    "\t\twhile(current_node):\n",
    "\t\t\tsize = size+1\n",
    "\t\t\tcurrent_node = current_node.next\n",
    "\t\treturn size\n",
    "\telse:\n",
    "\t\treturn 0\n"
   ]
  },
  {
   "cell_type": "code",
   "execution_count": 16,
   "metadata": {},
   "outputs": [],
   "source": [
    "# Create a Node class to create a node\n",
    "class Node:\n",
    "    def __init__(self, data):\n",
    "        self.data = data\n",
    "        self.next = None\n",
    " \n",
    "# Create a LinkedList class\n",
    " \n",
    " \n",
    "class LinkedList:\n",
    "    def __init__(self):\n",
    "        self.head = None\n",
    " \n",
    "    # Method to add a node at begin of LL\n",
    "    def insertAtBegin(self, data):\n",
    "        new_node = Node(data)\n",
    "        if self.head is None:\n",
    "            self.head = new_node\n",
    "            return\n",
    "        else:\n",
    "            new_node.next = self.head\n",
    "            self.head = new_node\n",
    " \n",
    "    # Method to add a node at any index\n",
    "    # Indexing starts from 0.\n",
    "    def insertAtIndex(self, data, index):\n",
    "        new_node = Node(data)\n",
    "        current_node = self.head\n",
    "        position = 0\n",
    "        if position == index:\n",
    "            self.insertAtBegin(data)\n",
    "        else:\n",
    "            while(current_node != None and position+1 != index):\n",
    "                position = position+1\n",
    "                current_node = current_node.next\n",
    " \n",
    "            if current_node != None:\n",
    "                new_node.next = current_node.next\n",
    "                current_node.next = new_node\n",
    "            else:\n",
    "                print(\"Index not present\")\n",
    " \n",
    "    # Method to add a node at the end of LL\n",
    " \n",
    "    def insertAtEnd(self, data):\n",
    "        new_node = Node(data)\n",
    "        if self.head is None:\n",
    "            self.head = new_node\n",
    "            return\n",
    " \n",
    "        current_node = self.head\n",
    "        while(current_node.next):\n",
    "            current_node = current_node.next\n",
    " \n",
    "        current_node.next = new_node\n",
    " \n",
    "    # Update node of a linked list\n",
    "        # at given position\n",
    "    def updateNode(self, val, index):\n",
    "        current_node = self.head\n",
    "        position = 0\n",
    "        if position == index:\n",
    "            current_node.data = val\n",
    "        else:\n",
    "            while(current_node != None and position != index):\n",
    "                position = position+1\n",
    "                current_node = current_node.next\n",
    " \n",
    "            if current_node != None:\n",
    "                current_node.data = val\n",
    "            else:\n",
    "                print(\"Index not present\")\n",
    " \n",
    "    # Method to remove first node of linked list\n",
    " \n",
    "    def remove_first_node(self):\n",
    "        if(self.head == None):\n",
    "            return\n",
    " \n",
    "        self.head = self.head.next\n",
    " \n",
    "    # Method to remove last node of linked list\n",
    "    def remove_last_node(self):\n",
    " \n",
    "        if self.head is None:\n",
    "            return\n",
    " \n",
    "        current_node = self.head\n",
    "        while(current_node.next.next):\n",
    "            current_node = current_node.next\n",
    " \n",
    "        current_node.next = None\n",
    " \n",
    "    # Method to remove at given index\n",
    "    def remove_at_index(self, index):\n",
    "        if self.head == None:\n",
    "            return\n",
    " \n",
    "        current_node = self.head\n",
    "        position = 0\n",
    "        if position == index:\n",
    "            self.remove_first_node()\n",
    "        else:\n",
    "            while(current_node != None and position+1 != index):\n",
    "                position = position+1\n",
    "                current_node = current_node.next\n",
    " \n",
    "            if current_node != None:\n",
    "                current_node.next = current_node.next.next\n",
    "            else:\n",
    "                print(\"Index not present\")\n",
    " \n",
    "    # Method to remove a node from linked list\n",
    "    def remove_node(self, data):\n",
    "        current_node = self.head\n",
    " \n",
    "        if current_node.data == data:\n",
    "            self.remove_first_node()\n",
    "            return\n",
    " \n",
    "        while(current_node != None and current_node.next.data != data):\n",
    "            current_node = current_node.next\n",
    " \n",
    "        if current_node == None:\n",
    "            return\n",
    "        else:\n",
    "            current_node.next = current_node.next.next\n",
    " \n",
    "    # Print the size of linked list\n",
    "    def sizeOfLL(self):\n",
    "        size = 0\n",
    "        if(self.head):\n",
    "            current_node = self.head\n",
    "            while(current_node):\n",
    "                size = size+1\n",
    "                current_node = current_node.next\n",
    "            return size\n",
    "        else:\n",
    "            return 0\n",
    " \n",
    "    # print method for the linked list\n",
    "    def printLL(self):\n",
    "        current_node = self.head\n",
    "        while(current_node):\n",
    "            print(current_node.data)\n",
    "            current_node = current_node.next"
   ]
  },
  {
   "cell_type": "code",
   "execution_count": 30,
   "metadata": {},
   "outputs": [],
   "source": [
    "llist = LinkedList()"
   ]
  },
  {
   "cell_type": "code",
   "execution_count": 31,
   "metadata": {},
   "outputs": [
    {
     "name": "stdout",
     "output_type": "stream",
     "text": [
      "c\n",
      "a\n",
      "g\n",
      "b\n",
      "d\n"
     ]
    }
   ],
   "source": [
    "llist.insertAtEnd('a')\n",
    "llist.insertAtEnd('b')\n",
    "llist.insertAtBegin('c')\n",
    "llist.insertAtEnd('d')\n",
    "llist.insertAtIndex('g',2)\n",
    "llist.printLL()"
   ]
  },
  {
   "cell_type": "code",
   "execution_count": 32,
   "metadata": {},
   "outputs": [
    {
     "name": "stdout",
     "output_type": "stream",
     "text": [
      "a\n",
      "g\n",
      "b\n",
      "d\n"
     ]
    }
   ],
   "source": [
    "llist.remove_first_node()\n",
    "llist.printLL()"
   ]
  },
  {
   "cell_type": "code",
   "execution_count": 33,
   "metadata": {},
   "outputs": [
    {
     "name": "stdout",
     "output_type": "stream",
     "text": [
      "a\n",
      "g\n",
      "b\n"
     ]
    }
   ],
   "source": [
    "llist.remove_last_node()\n",
    "llist.printLL()"
   ]
  },
  {
   "cell_type": "code",
   "execution_count": 34,
   "metadata": {},
   "outputs": [
    {
     "name": "stdout",
     "output_type": "stream",
     "text": [
      "a\n",
      "b\n"
     ]
    }
   ],
   "source": [
    "llist.remove_at_index(1)\n",
    "llist.printLL()"
   ]
  },
  {
   "cell_type": "code",
   "execution_count": 35,
   "metadata": {},
   "outputs": [
    {
     "name": "stdout",
     "output_type": "stream",
     "text": [
      "z\n",
      "b\n"
     ]
    }
   ],
   "source": [
    "llist.updateNode('z',0)\n",
    "llist.printLL()"
   ]
  },
  {
   "cell_type": "code",
   "execution_count": 36,
   "metadata": {},
   "outputs": [
    {
     "data": {
      "text/plain": [
       "2"
      ]
     },
     "execution_count": 36,
     "metadata": {},
     "output_type": "execute_result"
    }
   ],
   "source": [
    "llist.sizeOfLL()"
   ]
  },
  {
   "cell_type": "code",
   "execution_count": null,
   "metadata": {},
   "outputs": [],
   "source": []
  }
 ],
 "metadata": {
  "kernelspec": {
   "display_name": "base",
   "language": "python",
   "name": "python3"
  },
  "language_info": {
   "codemirror_mode": {
    "name": "ipython",
    "version": 3
   },
   "file_extension": ".py",
   "mimetype": "text/x-python",
   "name": "python",
   "nbconvert_exporter": "python",
   "pygments_lexer": "ipython3",
   "version": "3.9.13"
  }
 },
 "nbformat": 4,
 "nbformat_minor": 2
}
